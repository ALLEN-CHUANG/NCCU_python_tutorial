{
 "cells": [
  {
   "cell_type": "markdown",
   "metadata": {},
   "source": [
    "# [ 脫魯計算機 ]\n",
    "# 大家總是幻想上大學要交男女朋友（ＯＳ：ＱＡＱ）\n",
    "# 但是你有想過你脫魯的機率是多少嗎？\n",
    "# 用下列四個選項當作基本條件，再增加自己覺得可以增加脫魯選項，\n",
    "# 用 if 跟 input 製作一個脫魯機率計算機，計算自己脫魯的機率。\n",
    "# 1. 有沒有參加書院(yes or no)\n",
    "# 2. 嘴砲程度(1~10)\n",
    "# 3 有沒有參加系學會(yes or no)\n",
    "# 4. 有沒有參加書院(yes or no)\n",
    "# 5. XXXXXXXX"
   ]
  },
  {
   "cell_type": "code",
   "execution_count": 1,
   "metadata": {},
   "outputs": [
    {
     "name": "stdout",
     "output_type": "stream",
     "text": [
      "Populating the interactive namespace from numpy and matplotlib\n"
     ]
    }
   ],
   "source": [
    "%pylab inline"
   ]
  },
  {
   "cell_type": "code",
   "execution_count": 5,
   "metadata": {},
   "outputs": [
    {
     "name": "stdout",
     "output_type": "stream",
     "text": [
      "有沒有參加書院(yes or no)=yes\n",
      "嘴砲程度(1~10)=7\n",
      "有沒有參加系學會(yes or no)=yes\n",
      "有沒有參加社團(yes or no)=yes\n",
      "有沒有參加書院(yes or no)=no\n",
      "我的脫魯機率=0.67\n"
     ]
    }
   ],
   "source": [
    "\"我的脫魯程度\"\n",
    "\n",
    "a = input(\"有沒有參加書院(yes or no)=\")\n",
    "c = input(\"嘴砲程度(1~10)=\")\n",
    "d = input(\"有沒有參加系學會(yes or no)=\")\n",
    "e = input(\"有沒有參加社團(yes or no)=\")\n",
    "f = input(\"有沒有參加書院(yes or no)=\")\n",
    "\n",
    "if a==\"yes\":\n",
    "    q = 20\n",
    "else:\n",
    "    q = 0\n",
    "\n",
    "if d==\"yes\":\n",
    "    w = 20\n",
    "else:\n",
    "    w = 0\n",
    "\n",
    "if e==\"yes\":\n",
    "    r = 20\n",
    "else:\n",
    "    r = 0 \n",
    "\n",
    "if f==\"yes\":\n",
    "    t = 30\n",
    "else:\n",
    "    t = 0 \n",
    "\n",
    "sum1 = 0\n",
    "sum1 = sum1 + q + w + r + t + int(c) \n",
    "sum1 = sum1/100\n",
    "print('我的脫魯機率={}'.format(sum1))\n",
    "\n"
   ]
  },
  {
   "cell_type": "code",
   "execution_count": null,
   "metadata": {
    "collapsed": true
   },
   "outputs": [],
   "source": []
  }
 ],
 "metadata": {
  "kernelspec": {
   "display_name": "Python 3",
   "language": "python",
   "name": "python3"
  },
  "language_info": {
   "codemirror_mode": {
    "name": "ipython",
    "version": 3
   },
   "file_extension": ".py",
   "mimetype": "text/x-python",
   "name": "python",
   "nbconvert_exporter": "python",
   "pygments_lexer": "ipython3",
   "version": "3.6.1"
  }
 },
 "nbformat": 4,
 "nbformat_minor": 2
}
