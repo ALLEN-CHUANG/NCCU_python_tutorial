{
 "cells": [
  {
   "cell_type": "code",
   "execution_count": 1,
   "metadata": {
    "collapsed": true
   },
   "outputs": [],
   "source": [
    "import numpy as np"
   ]
  },
  {
   "cell_type": "code",
   "execution_count": 10,
   "metadata": {},
   "outputs": [],
   "source": [
    "def magictime():\n",
    "    print(\"時間分配比例(%)\")\n",
    "    a1 = int(input(\"love = \"))\n",
    "    a2 = int(input(\"pt = \"))\n",
    "    a3 = int(input(\"sw = \"))\n",
    "    a1 = 0.01*a1*12\n",
    "    a2 = 0.01*a2*12\n",
    "    a3 = 0.01*a3*12\n",
    "    x1 = 10 \n",
    "    y1 = 7\n",
    "    z1 = 3\n",
    "    x2 = 10\n",
    "    y2 = 9\n",
    "    z2 = 1\n",
    "    x3 = 8\n",
    "    y3 = 8\n",
    "    z3 = 4\n",
    "    A1 = np.array([[a1], [a2], [a3]])\n",
    "    A2 = np.array([[x1, y1, z1], [x2, y2, z2], [x3, y3, z3]])  \n",
    "    q = x1*a1 + y1*a2 + z1*a3\n",
    "    r = x2*a1 + y2*a2 + z2*a3\n",
    "    s = x3*a1 + y3*a2 + z3*a3\n",
    "    x = np.array([[q], [r], [s]])\n",
    "    \n",
    "    if x[0] > 1/2*(x[1] + x[2]):\n",
    "        print(\"結果是：划算\")\n",
    "    else:\n",
    "        print(\"結果是：吃屎\")\n"
   ]
  },
  {
   "cell_type": "code",
   "execution_count": 11,
   "metadata": {},
   "outputs": [
    {
     "name": "stdout",
     "output_type": "stream",
     "text": [
      "時間分配比例(%)\n",
      "love = 30\n",
      "pt = 30\n",
      "sw = 40\n",
      "結果是：划算\n"
     ]
    }
   ],
   "source": [
    "magictime()"
   ]
  },
  {
   "cell_type": "code",
   "execution_count": null,
   "metadata": {
    "collapsed": true
   },
   "outputs": [],
   "source": []
  }
 ],
 "metadata": {
  "kernelspec": {
   "display_name": "Python 3",
   "language": "python",
   "name": "python3"
  },
  "language_info": {
   "codemirror_mode": {
    "name": "ipython",
    "version": 3
   },
   "file_extension": ".py",
   "mimetype": "text/x-python",
   "name": "python",
   "nbconvert_exporter": "python",
   "pygments_lexer": "ipython3",
   "version": "3.6.1"
  }
 },
 "nbformat": 4,
 "nbformat_minor": 2
}
